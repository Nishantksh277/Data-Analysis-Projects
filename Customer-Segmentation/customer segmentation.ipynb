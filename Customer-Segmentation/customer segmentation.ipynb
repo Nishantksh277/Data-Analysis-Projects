{
 "cells": [
  {
   "cell_type": "markdown",
   "id": "bcc5ad0c",
   "metadata": {},
   "source": [
    "# RFM Customer Segmentation\n",
    "\n",
    "### **RFM** is a customer segmentation algorithm which segments the customers based on only three points\n",
    "\n",
    "- **Recency** - How recently did the customer purchased something?\n",
    "- **Frequency** - How frequently does the customer purchase something?\n",
    "- **Monetary** - How much has the customer spent?\n",
    "\n",
    "#### This helps businesses to properly segment their customers into various groups and launch different programs and campains on the basis of the segmentation"
   ]
  },
  {
   "cell_type": "markdown",
   "id": "9ce4a01f",
   "metadata": {},
   "source": [
    "# Importing Necessary Libraries"
   ]
  },
  {
   "cell_type": "code",
   "execution_count": 2,
   "id": "74536b95",
   "metadata": {},
   "outputs": [],
   "source": [
    "import pandas as pd\n",
    "import numpy as np\n",
    "import matplotlib.pyplot as plt\n",
    "import seaborn as sns\n",
    "import warnings\n",
    "warnings.filterwarnings('ignore')"
   ]
  },
  {
   "cell_type": "code",
   "execution_count": null,
   "id": "13c20301",
   "metadata": {},
   "outputs": [],
   "source": [
    "df = pd.read_csv(r\"C:\\Users\\Nishs\\OneDrive\\Desktop\\RFM Customer Segmentation Project\\online_retail_II.csv\") # reading the dataset"
   ]
  },
  {
   "cell_type": "code",
   "execution_count": null,
   "id": "71792a87",
   "metadata": {},
   "outputs": [
    {
     "data": {
      "text/html": [
       "<div>\n",
       "<style scoped>\n",
       "    .dataframe tbody tr th:only-of-type {\n",
       "        vertical-align: middle;\n",
       "    }\n",
       "\n",
       "    .dataframe tbody tr th {\n",
       "        vertical-align: top;\n",
       "    }\n",
       "\n",
       "    .dataframe thead th {\n",
       "        text-align: right;\n",
       "    }\n",
       "</style>\n",
       "<table border=\"1\" class=\"dataframe\">\n",
       "  <thead>\n",
       "    <tr style=\"text-align: right;\">\n",
       "      <th></th>\n",
       "      <th>Invoice</th>\n",
       "      <th>StockCode</th>\n",
       "      <th>Description</th>\n",
       "      <th>Quantity</th>\n",
       "      <th>InvoiceDate</th>\n",
       "      <th>Price</th>\n",
       "      <th>Customer ID</th>\n",
       "      <th>Country</th>\n",
       "    </tr>\n",
       "  </thead>\n",
       "  <tbody>\n",
       "    <tr>\n",
       "      <th>0</th>\n",
       "      <td>489434</td>\n",
       "      <td>85048</td>\n",
       "      <td>15CM CHRISTMAS GLASS BALL 20 LIGHTS</td>\n",
       "      <td>12</td>\n",
       "      <td>2009-12-01 07:45:00</td>\n",
       "      <td>6.95</td>\n",
       "      <td>13085.0</td>\n",
       "      <td>United Kingdom</td>\n",
       "    </tr>\n",
       "    <tr>\n",
       "      <th>1</th>\n",
       "      <td>489434</td>\n",
       "      <td>79323P</td>\n",
       "      <td>PINK CHERRY LIGHTS</td>\n",
       "      <td>12</td>\n",
       "      <td>2009-12-01 07:45:00</td>\n",
       "      <td>6.75</td>\n",
       "      <td>13085.0</td>\n",
       "      <td>United Kingdom</td>\n",
       "    </tr>\n",
       "    <tr>\n",
       "      <th>2</th>\n",
       "      <td>489434</td>\n",
       "      <td>79323W</td>\n",
       "      <td>WHITE CHERRY LIGHTS</td>\n",
       "      <td>12</td>\n",
       "      <td>2009-12-01 07:45:00</td>\n",
       "      <td>6.75</td>\n",
       "      <td>13085.0</td>\n",
       "      <td>United Kingdom</td>\n",
       "    </tr>\n",
       "    <tr>\n",
       "      <th>3</th>\n",
       "      <td>489434</td>\n",
       "      <td>22041</td>\n",
       "      <td>RECORD FRAME 7\" SINGLE SIZE</td>\n",
       "      <td>48</td>\n",
       "      <td>2009-12-01 07:45:00</td>\n",
       "      <td>2.10</td>\n",
       "      <td>13085.0</td>\n",
       "      <td>United Kingdom</td>\n",
       "    </tr>\n",
       "    <tr>\n",
       "      <th>4</th>\n",
       "      <td>489434</td>\n",
       "      <td>21232</td>\n",
       "      <td>STRAWBERRY CERAMIC TRINKET BOX</td>\n",
       "      <td>24</td>\n",
       "      <td>2009-12-01 07:45:00</td>\n",
       "      <td>1.25</td>\n",
       "      <td>13085.0</td>\n",
       "      <td>United Kingdom</td>\n",
       "    </tr>\n",
       "  </tbody>\n",
       "</table>\n",
       "</div>"
      ],
      "text/plain": [
       "  Invoice StockCode                          Description  Quantity  \\\n",
       "0  489434     85048  15CM CHRISTMAS GLASS BALL 20 LIGHTS        12   \n",
       "1  489434    79323P                   PINK CHERRY LIGHTS        12   \n",
       "2  489434    79323W                  WHITE CHERRY LIGHTS        12   \n",
       "3  489434     22041         RECORD FRAME 7\" SINGLE SIZE         48   \n",
       "4  489434     21232       STRAWBERRY CERAMIC TRINKET BOX        24   \n",
       "\n",
       "           InvoiceDate  Price  Customer ID         Country  \n",
       "0  2009-12-01 07:45:00   6.95      13085.0  United Kingdom  \n",
       "1  2009-12-01 07:45:00   6.75      13085.0  United Kingdom  \n",
       "2  2009-12-01 07:45:00   6.75      13085.0  United Kingdom  \n",
       "3  2009-12-01 07:45:00   2.10      13085.0  United Kingdom  \n",
       "4  2009-12-01 07:45:00   1.25      13085.0  United Kingdom  "
      ]
     },
     "execution_count": 4,
     "metadata": {},
     "output_type": "execute_result"
    }
   ],
   "source": [
    "df.head() # checking the first 5 rows"
   ]
  },
  {
   "cell_type": "markdown",
   "id": "f5d93c39",
   "metadata": {},
   "source": [
    "# Data Preprocessing\n",
    "\n",
    "- Duplicate Records\n",
    "- Missing Values\n",
    "- Inconsistent Format"
   ]
  },
  {
   "cell_type": "code",
   "execution_count": null,
   "id": "6363d822",
   "metadata": {},
   "outputs": [
    {
     "name": "stdout",
     "output_type": "stream",
     "text": [
      "<class 'pandas.core.frame.DataFrame'>\n",
      "RangeIndex: 1067371 entries, 0 to 1067370\n",
      "Data columns (total 8 columns):\n",
      " #   Column       Non-Null Count    Dtype  \n",
      "---  ------       --------------    -----  \n",
      " 0   Invoice      1067371 non-null  object \n",
      " 1   StockCode    1067371 non-null  object \n",
      " 2   Description  1062989 non-null  object \n",
      " 3   Quantity     1067371 non-null  int64  \n",
      " 4   InvoiceDate  1067371 non-null  object \n",
      " 5   Price        1067371 non-null  float64\n",
      " 6   Customer ID  824364 non-null   float64\n",
      " 7   Country      1067371 non-null  object \n",
      "dtypes: float64(2), int64(1), object(5)\n",
      "memory usage: 65.1+ MB\n"
     ]
    }
   ],
   "source": [
    "df.info() # checking for missing values"
   ]
  },
  {
   "cell_type": "markdown",
   "id": "5a98cc4e",
   "metadata": {},
   "source": [
    "# Removing Duplicates"
   ]
  },
  {
   "cell_type": "code",
   "execution_count": null,
   "id": "c59fcf6a",
   "metadata": {},
   "outputs": [
    {
     "data": {
      "text/plain": [
       "np.int64(0)"
      ]
     },
     "execution_count": 6,
     "metadata": {},
     "output_type": "execute_result"
    }
   ],
   "source": [
    "df.duplicated().sum() # checking for duplicates\n",
    "df.drop_duplicates(inplace=True) # removing duplicates\n",
    "df.duplicated().sum() # checking for duplicates"
   ]
  },
  {
   "cell_type": "markdown",
   "id": "c938851b",
   "metadata": {},
   "source": [
    "# Formatting Dataset"
   ]
  },
  {
   "cell_type": "code",
   "execution_count": 7,
   "id": "15e09d63",
   "metadata": {},
   "outputs": [],
   "source": [
    "df['Customer ID'] = df['Customer ID'].astype('str') # converting to string"
   ]
  },
  {
   "cell_type": "code",
   "execution_count": null,
   "id": "d2133c67",
   "metadata": {},
   "outputs": [
    {
     "data": {
      "text/html": [
       "<div>\n",
       "<style scoped>\n",
       "    .dataframe tbody tr th:only-of-type {\n",
       "        vertical-align: middle;\n",
       "    }\n",
       "\n",
       "    .dataframe tbody tr th {\n",
       "        vertical-align: top;\n",
       "    }\n",
       "\n",
       "    .dataframe thead th {\n",
       "        text-align: right;\n",
       "    }\n",
       "</style>\n",
       "<table border=\"1\" class=\"dataframe\">\n",
       "  <thead>\n",
       "    <tr style=\"text-align: right;\">\n",
       "      <th></th>\n",
       "      <th>Quantity</th>\n",
       "      <th>Price</th>\n",
       "    </tr>\n",
       "  </thead>\n",
       "  <tbody>\n",
       "    <tr>\n",
       "      <th>count</th>\n",
       "      <td>1.033036e+06</td>\n",
       "      <td>1.033036e+06</td>\n",
       "    </tr>\n",
       "    <tr>\n",
       "      <th>mean</th>\n",
       "      <td>1.007688e+01</td>\n",
       "      <td>4.613980e+00</td>\n",
       "    </tr>\n",
       "    <tr>\n",
       "      <th>std</th>\n",
       "      <td>1.751976e+02</td>\n",
       "      <td>1.223975e+02</td>\n",
       "    </tr>\n",
       "    <tr>\n",
       "      <th>min</th>\n",
       "      <td>-8.099500e+04</td>\n",
       "      <td>-5.359436e+04</td>\n",
       "    </tr>\n",
       "    <tr>\n",
       "      <th>25%</th>\n",
       "      <td>1.000000e+00</td>\n",
       "      <td>1.250000e+00</td>\n",
       "    </tr>\n",
       "    <tr>\n",
       "      <th>50%</th>\n",
       "      <td>3.000000e+00</td>\n",
       "      <td>2.100000e+00</td>\n",
       "    </tr>\n",
       "    <tr>\n",
       "      <th>75%</th>\n",
       "      <td>1.000000e+01</td>\n",
       "      <td>4.150000e+00</td>\n",
       "    </tr>\n",
       "    <tr>\n",
       "      <th>max</th>\n",
       "      <td>8.099500e+04</td>\n",
       "      <td>3.897000e+04</td>\n",
       "    </tr>\n",
       "  </tbody>\n",
       "</table>\n",
       "</div>"
      ],
      "text/plain": [
       "           Quantity         Price\n",
       "count  1.033036e+06  1.033036e+06\n",
       "mean   1.007688e+01  4.613980e+00\n",
       "std    1.751976e+02  1.223975e+02\n",
       "min   -8.099500e+04 -5.359436e+04\n",
       "25%    1.000000e+00  1.250000e+00\n",
       "50%    3.000000e+00  2.100000e+00\n",
       "75%    1.000000e+01  4.150000e+00\n",
       "max    8.099500e+04  3.897000e+04"
      ]
     },
     "execution_count": 8,
     "metadata": {},
     "output_type": "execute_result"
    }
   ],
   "source": [
    "df.describe() # describing"
   ]
  },
  {
   "cell_type": "markdown",
   "id": "1fcf7798",
   "metadata": {},
   "source": [
    "#### Checking total number of products, transactions and customers"
   ]
  },
  {
   "cell_type": "code",
   "execution_count": 9,
   "id": "6ae63767",
   "metadata": {},
   "outputs": [
    {
     "name": "stdout",
     "output_type": "stream",
     "text": [
      "Total Number of Transactions:  53628\n",
      "Total Number of Customers:  5943\n",
      "Total Number of Products:  5305\n"
     ]
    }
   ],
   "source": [
    "print(\"Total Number of Transactions: \", len(df['Invoice'].value_counts())) # total number of transactions\n",
    "print(\"Total Number of Customers: \", len(df['Customer ID'].value_counts())) # total number of customers\n",
    "print(\"Total Number of Products: \", len(df['StockCode'].value_counts())) # total number of products"
   ]
  },
  {
   "cell_type": "markdown",
   "id": "bc33bb9a",
   "metadata": {},
   "source": [
    "# Checking for Missing Values"
   ]
  },
  {
   "cell_type": "code",
   "execution_count": 10,
   "id": "1a854fee",
   "metadata": {},
   "outputs": [
    {
     "data": {
      "text/plain": [
       "Invoice\n",
       "0    1033036\n",
       "Name: count, dtype: int64"
      ]
     },
     "execution_count": 10,
     "metadata": {},
     "output_type": "execute_result"
    }
   ],
   "source": [
    "Missed_Val = df['Invoice'].astype(str).str.contains('c') # checking for missing values\n",
    "Missed_Val.fillna(0, inplace=True) # filling with 0\n",
    "Missed_Val = Missed_Val.astype(int) # converting to integer\n",
    "Missed_Val.value_counts() # counting"
   ]
  },
  {
   "cell_type": "code",
   "execution_count": null,
   "id": "f6a7effc",
   "metadata": {},
   "outputs": [
    {
     "name": "stdout",
     "output_type": "stream",
     "text": [
      "<class 'pandas.core.frame.DataFrame'>\n",
      "Index: 1033036 entries, 0 to 1067370\n",
      "Data columns (total 8 columns):\n",
      " #   Column       Non-Null Count    Dtype  \n",
      "---  ------       --------------    -----  \n",
      " 0   Invoice      1033036 non-null  object \n",
      " 1   StockCode    1033036 non-null  object \n",
      " 2   Description  1028761 non-null  object \n",
      " 3   Quantity     1033036 non-null  int64  \n",
      " 4   InvoiceDate  1033036 non-null  object \n",
      " 5   Price        1033036 non-null  float64\n",
      " 6   Customer ID  1033036 non-null  object \n",
      " 7   Country      1033036 non-null  object \n",
      "dtypes: float64(1), int64(1), object(6)\n",
      "memory usage: 70.9+ MB\n"
     ]
    }
   ],
   "source": [
    "df.info() # checking for missing values"
   ]
  },
  {
   "cell_type": "code",
   "execution_count": 12,
   "id": "6445e3a6",
   "metadata": {},
   "outputs": [],
   "source": [
    "df = df[df['Customer ID'].notna()] # removing missing values"
   ]
  },
  {
   "cell_type": "code",
   "execution_count": 13,
   "id": "4c449cb0",
   "metadata": {},
   "outputs": [
    {
     "name": "stdout",
     "output_type": "stream",
     "text": [
      "Total number of transactions with negative quantity:  22496\n",
      "Total number of transactions with negative price:  6019\n"
     ]
    }
   ],
   "source": [
    "print(\"Total number of transactions with negative quantity: \", df[df['Quantity'] <= 0]['Quantity'].count()) # checking for negative quantity\n",
    "print(\"Total number of transactions with negative price: \", df[df['Price'] <= 0]['Price'].count()) # checking for negative price"
   ]
  },
  {
   "cell_type": "code",
   "execution_count": 14,
   "id": "7b1baecb",
   "metadata": {},
   "outputs": [],
   "source": [
    "df = df[(df['Price']>0) & (df['Quantity']>0)] # removing negative quantity and price"
   ]
  },
  {
   "cell_type": "markdown",
   "id": "787696ac",
   "metadata": {},
   "source": [
    "# Create RFM Table"
   ]
  },
  {
   "cell_type": "code",
   "execution_count": 15,
   "id": "1c258c4d",
   "metadata": {},
   "outputs": [
    {
     "name": "stdout",
     "output_type": "stream",
     "text": [
      "start date:  2009-12-01 07:45:00\n",
      "end date:  2011-12-09 12:50:00\n"
     ]
    }
   ],
   "source": [
    "print(\"start date: \", df['InvoiceDate'].min()) # start date\n",
    "print(\"end date: \", df['InvoiceDate'].max()) # end date"
   ]
  },
  {
   "cell_type": "code",
   "execution_count": 16,
   "id": "6a40a9b3",
   "metadata": {},
   "outputs": [],
   "source": [
    "from datetime import datetime\n",
    "df['Revenue'] = df['Price'] * df['Quantity'] # creating revenue column\n",
    "df[\"InvoiceDate\"] = pd.to_datetime(df['InvoiceDate']) # converting to datetime\n",
    "df[\"InvoiceDate\"] = df[\"InvoiceDate\"].dt.date # converting to date"
   ]
  },
  {
   "cell_type": "code",
   "execution_count": 17,
   "id": "4dd979df",
   "metadata": {},
   "outputs": [
    {
     "name": "stdout",
     "output_type": "stream",
     "text": [
      "2011-12-10\n"
     ]
    }
   ],
   "source": [
    "import datetime as dt\n",
    "our_date = max(df.InvoiceDate) + dt.timedelta(days=1) # creating our date\n",
    "print(our_date)"
   ]
  },
  {
   "cell_type": "code",
   "execution_count": 18,
   "id": "f50bae4c",
   "metadata": {},
   "outputs": [
    {
     "data": {
      "text/html": [
       "<div>\n",
       "<style scoped>\n",
       "    .dataframe tbody tr th:only-of-type {\n",
       "        vertical-align: middle;\n",
       "    }\n",
       "\n",
       "    .dataframe tbody tr th {\n",
       "        vertical-align: top;\n",
       "    }\n",
       "\n",
       "    .dataframe thead th {\n",
       "        text-align: right;\n",
       "    }\n",
       "</style>\n",
       "<table border=\"1\" class=\"dataframe\">\n",
       "  <thead>\n",
       "    <tr style=\"text-align: right;\">\n",
       "      <th></th>\n",
       "      <th>Customer ID</th>\n",
       "      <th>Recency</th>\n",
       "      <th>Frequency</th>\n",
       "      <th>Monetary</th>\n",
       "    </tr>\n",
       "  </thead>\n",
       "  <tbody>\n",
       "    <tr>\n",
       "      <th>0</th>\n",
       "      <td>12346.0</td>\n",
       "      <td>326</td>\n",
       "      <td>34</td>\n",
       "      <td>77556.46</td>\n",
       "    </tr>\n",
       "    <tr>\n",
       "      <th>1</th>\n",
       "      <td>12347.0</td>\n",
       "      <td>3</td>\n",
       "      <td>222</td>\n",
       "      <td>4921.53</td>\n",
       "    </tr>\n",
       "    <tr>\n",
       "      <th>2</th>\n",
       "      <td>12348.0</td>\n",
       "      <td>76</td>\n",
       "      <td>51</td>\n",
       "      <td>2019.40</td>\n",
       "    </tr>\n",
       "    <tr>\n",
       "      <th>3</th>\n",
       "      <td>12349.0</td>\n",
       "      <td>19</td>\n",
       "      <td>175</td>\n",
       "      <td>4428.69</td>\n",
       "    </tr>\n",
       "    <tr>\n",
       "      <th>4</th>\n",
       "      <td>12350.0</td>\n",
       "      <td>311</td>\n",
       "      <td>17</td>\n",
       "      <td>334.40</td>\n",
       "    </tr>\n",
       "  </tbody>\n",
       "</table>\n",
       "</div>"
      ],
      "text/plain": [
       "  Customer ID  Recency  Frequency  Monetary\n",
       "0     12346.0      326         34  77556.46\n",
       "1     12347.0        3        222   4921.53\n",
       "2     12348.0       76         51   2019.40\n",
       "3     12349.0       19        175   4428.69\n",
       "4     12350.0      311         17    334.40"
      ]
     },
     "execution_count": 18,
     "metadata": {},
     "output_type": "execute_result"
    }
   ],
   "source": [
    "rfm = df.groupby('Customer ID').agg({'InvoiceDate': lambda x:(our_date - x.max()).days, \n",
    "                                     'Invoice': lambda x: len(x), 'Revenue': lambda x: x.sum()}).reset_index() # creating RFM table\n",
    "\n",
    "rfm['InvoiceDate'] = rfm['InvoiceDate'].astype(int)\n",
    "rfm.rename(columns = {'InvoiceDate': 'Recency', \n",
    "                      'Invoice': 'Frequency', \n",
    "                      'Revenue': 'Monetary'}, inplace = True) # renaming columns\n",
    "rfm.head()"
   ]
  },
  {
   "cell_type": "markdown",
   "id": "70519541",
   "metadata": {},
   "source": [
    "# RFM Metric and RFM Segments"
   ]
  },
  {
   "cell_type": "code",
   "execution_count": null,
   "id": "3e9d46cf",
   "metadata": {},
   "outputs": [
    {
     "data": {
      "text/html": [
       "<div>\n",
       "<style scoped>\n",
       "    .dataframe tbody tr th:only-of-type {\n",
       "        vertical-align: middle;\n",
       "    }\n",
       "\n",
       "    .dataframe tbody tr th {\n",
       "        vertical-align: top;\n",
       "    }\n",
       "\n",
       "    .dataframe thead th {\n",
       "        text-align: right;\n",
       "    }\n",
       "</style>\n",
       "<table border=\"1\" class=\"dataframe\">\n",
       "  <thead>\n",
       "    <tr style=\"text-align: right;\">\n",
       "      <th></th>\n",
       "      <th>Customer ID</th>\n",
       "      <th>Recency</th>\n",
       "      <th>Frequency</th>\n",
       "      <th>Monetary</th>\n",
       "      <th>R</th>\n",
       "      <th>F</th>\n",
       "      <th>M</th>\n",
       "    </tr>\n",
       "  </thead>\n",
       "  <tbody>\n",
       "    <tr>\n",
       "      <th>0</th>\n",
       "      <td>12346.0</td>\n",
       "      <td>326</td>\n",
       "      <td>34</td>\n",
       "      <td>77556.46</td>\n",
       "      <td>2</td>\n",
       "      <td>4</td>\n",
       "      <td>1</td>\n",
       "    </tr>\n",
       "    <tr>\n",
       "      <th>1</th>\n",
       "      <td>12347.0</td>\n",
       "      <td>3</td>\n",
       "      <td>222</td>\n",
       "      <td>4921.53</td>\n",
       "      <td>5</td>\n",
       "      <td>1</td>\n",
       "      <td>1</td>\n",
       "    </tr>\n",
       "    <tr>\n",
       "      <th>2</th>\n",
       "      <td>12348.0</td>\n",
       "      <td>76</td>\n",
       "      <td>51</td>\n",
       "      <td>2019.40</td>\n",
       "      <td>3</td>\n",
       "      <td>3</td>\n",
       "      <td>2</td>\n",
       "    </tr>\n",
       "    <tr>\n",
       "      <th>3</th>\n",
       "      <td>12349.0</td>\n",
       "      <td>19</td>\n",
       "      <td>175</td>\n",
       "      <td>4428.69</td>\n",
       "      <td>5</td>\n",
       "      <td>1</td>\n",
       "      <td>1</td>\n",
       "    </tr>\n",
       "    <tr>\n",
       "      <th>4</th>\n",
       "      <td>12350.0</td>\n",
       "      <td>311</td>\n",
       "      <td>17</td>\n",
       "      <td>334.40</td>\n",
       "      <td>2</td>\n",
       "      <td>4</td>\n",
       "      <td>4</td>\n",
       "    </tr>\n",
       "  </tbody>\n",
       "</table>\n",
       "</div>"
      ],
      "text/plain": [
       "  Customer ID  Recency  Frequency  Monetary  R  F  M\n",
       "0     12346.0      326         34  77556.46  2  4  1\n",
       "1     12347.0        3        222   4921.53  5  1  1\n",
       "2     12348.0       76         51   2019.40  3  3  2\n",
       "3     12349.0       19        175   4428.69  5  1  1\n",
       "4     12350.0      311         17    334.40  2  4  4"
      ]
     },
     "execution_count": 19,
     "metadata": {},
     "output_type": "execute_result"
    }
   ],
   "source": [
    "# Crearing RFM Score\n",
    "rfm['R'] = pd.qcut(rfm['Recency'], 5, labels = [5, 4, 3, 2, 1]).astype(int) # recency\n",
    "rfm['F'] = pd.qcut(rfm['Frequency'], 5, labels = [5, 4, 3, 2, 1]).astype(int) # frequency\n",
    "rfm['M'] = pd.qcut(rfm['Monetary'], 5, labels = [5, 4, 3, 2, 1]).astype(int) # monetary\n",
    "rfm.head()"
   ]
  },
  {
   "cell_type": "code",
   "execution_count": 20,
   "id": "eb4e4866",
   "metadata": {},
   "outputs": [
    {
     "data": {
      "text/html": [
       "<div>\n",
       "<style scoped>\n",
       "    .dataframe tbody tr th:only-of-type {\n",
       "        vertical-align: middle;\n",
       "    }\n",
       "\n",
       "    .dataframe tbody tr th {\n",
       "        vertical-align: top;\n",
       "    }\n",
       "\n",
       "    .dataframe thead th {\n",
       "        text-align: right;\n",
       "    }\n",
       "</style>\n",
       "<table border=\"1\" class=\"dataframe\">\n",
       "  <thead>\n",
       "    <tr style=\"text-align: right;\">\n",
       "      <th></th>\n",
       "      <th>Customer ID</th>\n",
       "      <th>Recency</th>\n",
       "      <th>Frequency</th>\n",
       "      <th>Monetary</th>\n",
       "      <th>R</th>\n",
       "      <th>F</th>\n",
       "      <th>M</th>\n",
       "      <th>RFM_Segment</th>\n",
       "      <th>RFM_Score</th>\n",
       "    </tr>\n",
       "  </thead>\n",
       "  <tbody>\n",
       "    <tr>\n",
       "      <th>0</th>\n",
       "      <td>12346.0</td>\n",
       "      <td>326</td>\n",
       "      <td>34</td>\n",
       "      <td>77556.46</td>\n",
       "      <td>2</td>\n",
       "      <td>4</td>\n",
       "      <td>1</td>\n",
       "      <td>241</td>\n",
       "      <td>7</td>\n",
       "    </tr>\n",
       "    <tr>\n",
       "      <th>1</th>\n",
       "      <td>12347.0</td>\n",
       "      <td>3</td>\n",
       "      <td>222</td>\n",
       "      <td>4921.53</td>\n",
       "      <td>5</td>\n",
       "      <td>1</td>\n",
       "      <td>1</td>\n",
       "      <td>511</td>\n",
       "      <td>7</td>\n",
       "    </tr>\n",
       "    <tr>\n",
       "      <th>2</th>\n",
       "      <td>12348.0</td>\n",
       "      <td>76</td>\n",
       "      <td>51</td>\n",
       "      <td>2019.40</td>\n",
       "      <td>3</td>\n",
       "      <td>3</td>\n",
       "      <td>2</td>\n",
       "      <td>332</td>\n",
       "      <td>8</td>\n",
       "    </tr>\n",
       "    <tr>\n",
       "      <th>3</th>\n",
       "      <td>12349.0</td>\n",
       "      <td>19</td>\n",
       "      <td>175</td>\n",
       "      <td>4428.69</td>\n",
       "      <td>5</td>\n",
       "      <td>1</td>\n",
       "      <td>1</td>\n",
       "      <td>511</td>\n",
       "      <td>7</td>\n",
       "    </tr>\n",
       "    <tr>\n",
       "      <th>4</th>\n",
       "      <td>12350.0</td>\n",
       "      <td>311</td>\n",
       "      <td>17</td>\n",
       "      <td>334.40</td>\n",
       "      <td>2</td>\n",
       "      <td>4</td>\n",
       "      <td>4</td>\n",
       "      <td>244</td>\n",
       "      <td>10</td>\n",
       "    </tr>\n",
       "  </tbody>\n",
       "</table>\n",
       "</div>"
      ],
      "text/plain": [
       "  Customer ID  Recency  Frequency  Monetary  R  F  M RFM_Segment  RFM_Score\n",
       "0     12346.0      326         34  77556.46  2  4  1         241          7\n",
       "1     12347.0        3        222   4921.53  5  1  1         511          7\n",
       "2     12348.0       76         51   2019.40  3  3  2         332          8\n",
       "3     12349.0       19        175   4428.69  5  1  1         511          7\n",
       "4     12350.0      311         17    334.40  2  4  4         244         10"
      ]
     },
     "execution_count": 20,
     "metadata": {},
     "output_type": "execute_result"
    }
   ],
   "source": [
    "rfm['RFM_Segment'] = rfm['R'].astype(str) + rfm['F'].astype(str) + rfm['M'].astype(str) # creating RFM Segment\n",
    "rfm['RFM_Score'] = rfm[['R', 'F', 'M']].sum(axis = 1) # creating RFM Score\n",
    "rfm.head()"
   ]
  },
  {
   "cell_type": "code",
   "execution_count": null,
   "id": "b6022fc1",
   "metadata": {},
   "outputs": [
    {
     "data": {
      "text/html": [
       "<div>\n",
       "<style scoped>\n",
       "    .dataframe tbody tr th:only-of-type {\n",
       "        vertical-align: middle;\n",
       "    }\n",
       "\n",
       "    .dataframe tbody tr th {\n",
       "        vertical-align: top;\n",
       "    }\n",
       "\n",
       "    .dataframe thead th {\n",
       "        text-align: right;\n",
       "    }\n",
       "</style>\n",
       "<table border=\"1\" class=\"dataframe\">\n",
       "  <thead>\n",
       "    <tr style=\"text-align: right;\">\n",
       "      <th></th>\n",
       "      <th>Customer ID</th>\n",
       "      <th>Recency</th>\n",
       "      <th>Frequency</th>\n",
       "      <th>Monetary</th>\n",
       "      <th>R</th>\n",
       "      <th>F</th>\n",
       "      <th>M</th>\n",
       "      <th>RFM_Segment</th>\n",
       "      <th>RFM_Score</th>\n",
       "      <th>Segment</th>\n",
       "    </tr>\n",
       "  </thead>\n",
       "  <tbody>\n",
       "    <tr>\n",
       "      <th>0</th>\n",
       "      <td>12346.0</td>\n",
       "      <td>326</td>\n",
       "      <td>34</td>\n",
       "      <td>77556.46</td>\n",
       "      <td>2</td>\n",
       "      <td>4</td>\n",
       "      <td>1</td>\n",
       "      <td>241</td>\n",
       "      <td>7</td>\n",
       "      <td>Loyal Customers</td>\n",
       "    </tr>\n",
       "    <tr>\n",
       "      <th>1</th>\n",
       "      <td>12347.0</td>\n",
       "      <td>3</td>\n",
       "      <td>222</td>\n",
       "      <td>4921.53</td>\n",
       "      <td>5</td>\n",
       "      <td>1</td>\n",
       "      <td>1</td>\n",
       "      <td>511</td>\n",
       "      <td>7</td>\n",
       "      <td>Loyal Customers</td>\n",
       "    </tr>\n",
       "    <tr>\n",
       "      <th>2</th>\n",
       "      <td>12348.0</td>\n",
       "      <td>76</td>\n",
       "      <td>51</td>\n",
       "      <td>2019.40</td>\n",
       "      <td>3</td>\n",
       "      <td>3</td>\n",
       "      <td>2</td>\n",
       "      <td>332</td>\n",
       "      <td>8</td>\n",
       "      <td>Loyal Customers</td>\n",
       "    </tr>\n",
       "    <tr>\n",
       "      <th>3</th>\n",
       "      <td>12349.0</td>\n",
       "      <td>19</td>\n",
       "      <td>175</td>\n",
       "      <td>4428.69</td>\n",
       "      <td>5</td>\n",
       "      <td>1</td>\n",
       "      <td>1</td>\n",
       "      <td>511</td>\n",
       "      <td>7</td>\n",
       "      <td>Loyal Customers</td>\n",
       "    </tr>\n",
       "    <tr>\n",
       "      <th>4</th>\n",
       "      <td>12350.0</td>\n",
       "      <td>311</td>\n",
       "      <td>17</td>\n",
       "      <td>334.40</td>\n",
       "      <td>2</td>\n",
       "      <td>4</td>\n",
       "      <td>4</td>\n",
       "      <td>244</td>\n",
       "      <td>10</td>\n",
       "      <td>Top Customers</td>\n",
       "    </tr>\n",
       "  </tbody>\n",
       "</table>\n",
       "</div>"
      ],
      "text/plain": [
       "  Customer ID  Recency  Frequency  Monetary  R  F  M RFM_Segment  RFM_Score  \\\n",
       "0     12346.0      326         34  77556.46  2  4  1         241          7   \n",
       "1     12347.0        3        222   4921.53  5  1  1         511          7   \n",
       "2     12348.0       76         51   2019.40  3  3  2         332          8   \n",
       "3     12349.0       19        175   4428.69  5  1  1         511          7   \n",
       "4     12350.0      311         17    334.40  2  4  4         244         10   \n",
       "\n",
       "           Segment  \n",
       "0  Loyal Customers  \n",
       "1  Loyal Customers  \n",
       "2  Loyal Customers  \n",
       "3  Loyal Customers  \n",
       "4    Top Customers  "
      ]
     },
     "execution_count": 21,
     "metadata": {},
     "output_type": "execute_result"
    }
   ],
   "source": [
    "# Creating Segments\n",
    "def segment(score):\n",
    "    if score>=10:\n",
    "        return 'Top Customers'\n",
    "    elif score>= 7:\n",
    "        return 'Loyal Customers'\n",
    "    elif score>=5:\n",
    "        return 'Potential'\n",
    "    else:\n",
    "        return 'Lost'\n",
    "\n",
    "rfm['Segment'] = rfm['RFM_Score'].apply(segment)\n",
    "rfm.head()"
   ]
  },
  {
   "cell_type": "code",
   "execution_count": 22,
   "id": "169e9d3a",
   "metadata": {},
   "outputs": [
    {
     "name": "stdout",
     "output_type": "stream",
     "text": [
      "Total Number of Top Customers:  2466\n",
      "Total Number of Loyal Customers:  5073\n",
      "Total Number of Potential Customers:  5808\n",
      "Total Number of Lost Customers:  71\n"
     ]
    }
   ],
   "source": [
    "print(\"Total Number of Top Customers: \", rfm[rfm['RFM_Score']>=10].shape[0]) # total number of top customers\n",
    "print(\"Total Number of Loyal Customers: \", rfm[rfm['RFM_Score']>=7].shape[0]) # total number of loyal customers\n",
    "print(\"Total Number of Potential Customers: \", rfm[rfm['RFM_Score']>=5].shape[0]) # total number of potential customers\n",
    "print(\"Total Number of Lost Customers: \", rfm[rfm['RFM_Score']<5].shape[0]) # total number of lost customers"
   ]
  },
  {
   "cell_type": "code",
   "execution_count": 36,
   "id": "b5cc8dd7",
   "metadata": {},
   "outputs": [
    {
     "data": {
      "image/png": "[encoded data removed]",
      "text/plain": [
       "<Figure size 800x600 with 1 Axes>"
      ]
     },
     "metadata": {},
     "output_type": "display_data"
    }
   ],
   "source": [
    "# Count the number of customers per segment\n",
    "segment_counts = rfm['Segment'].value_counts()\n",
    "\n",
    "# Plot a pie chart\n",
    "plt.figure(figsize=(8, 6))\n",
    "plt.pie(segment_counts, labels=segment_counts.index, autopct='%1.1f%%', startangle=150)\n",
    "plt.title('Customer Segments by RFM Score')\n",
    "plt.axis('equal')  # Equal aspect ratio ensures that pie is drawn as a circle.\n",
    "plt.show()"
   ]
  },
  {
   "cell_type": "markdown",
   "id": "0f91b50d",
   "metadata": {},
   "source": [
    "# KMeans Clustering"
   ]
  },
  {
   "cell_type": "code",
   "execution_count": null,
   "id": "f8739c60",
   "metadata": {},
   "outputs": [],
   "source": [
    "from sklearn.preprocessing import StandardScaler \n",
    "from sklearn.cluster import KMeans\n",
    "rfm_clustering = rfm[['Recency','Frequency', 'Monetary']] # creating RFM Clustering\n",
    "scaler = StandardScaler() # creating scaler\n",
    "rfm_scaled = scaler.fit_transform(rfm_clustering) # scaling"
   ]
  },
  {
   "cell_type": "code",
   "execution_count": 25,
   "id": "8e16ed83",
   "metadata": {},
   "outputs": [
    {
     "data": {
      "image/png": "[encoded data removed]",
      "text/plain": [
       "<Figure size 640x480 with 1 Axes>"
      ]
     },
     "metadata": {},
     "output_type": "display_data"
    }
   ],
   "source": [
    "sse = []\n",
    "for k in range(1,11):\n",
    "    kmeans = KMeans(n_clusters=k,random_state = 30) # creating KMeans\n",
    "    kmeans.fit(rfm_scaled) # fitting\n",
    "    sse.append(kmeans.inertia_) # finding inertia\n",
    "\n",
    "plt.plot(range(1, 11), sse, marker='o') \n",
    "plt.xlabel('Number of Clusters')\n",
    "plt.ylabel('SSE (Inertia)')\n",
    "plt.title('Elbow Method For Optimal k')\n",
    "plt.show()"
   ]
  },
  {
   "cell_type": "code",
   "execution_count": 26,
   "id": "a5854421",
   "metadata": {},
   "outputs": [],
   "source": [
    "kmeans = KMeans(n_clusters=4, random_state = 42) # creating KMeans\n",
    "rfm['Cluster'] = kmeans.fit_predict(rfm_scaled) # fitting"
   ]
  },
  {
   "cell_type": "code",
   "execution_count": null,
   "id": "849b8536",
   "metadata": {},
   "outputs": [
    {
     "data": {
      "image/png": "[encoded data removed]",
      "text/plain": [
       "<Figure size 810.361x750 with 12 Axes>"
      ]
     },
     "metadata": {},
     "output_type": "display_data"
    }
   ],
   "source": [
    "import seaborn as sns\n",
    "\n",
    "sns.pairplot(rfm, hue='Cluster', vars = [\"Recency\", \"Frequency\", \"Monetary\"]) # plotting RFM Segments\n",
    "plt.suptitle(\"Clustered RFM Segments\", y = 1.02) # adding title\n",
    "plt.show()"
   ]
  },
  {
   "cell_type": "markdown",
   "id": "ade93796",
   "metadata": {},
   "source": [
    "# Conclusion\n",
    "\n",
    "#### **We have a significant number of Loyal Customers who could be converted into Top Customers by promoting high-value or exclusive products. For Lost Customers, strong return offers or win-back campaigns with deep discounts might help re-engage them. Potential Customers show promise and can be nurtured with consistent marketing and moderate promotional offers to increase their engagement.**"
   ]
  }
 ],
 "metadata": {
  "kernelspec": {
   "display_name": "Python 3",
   "language": "python",
   "name": "python3"
  },
  "language_info": {
   "codemirror_mode": {
    "name": "ipython",
    "version": 3
   },
   "file_extension": ".py",
   "mimetype": "text/x-python",
   "name": "python",
   "nbconvert_exporter": "python",
   "pygments_lexer": "ipython3",
   "version": "3.13.3"
  }
 },
 "nbformat": 4,
 "nbformat_minor": 5
}
